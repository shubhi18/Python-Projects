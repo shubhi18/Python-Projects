{
 "cells": [
  {
   "cell_type": "code",
   "execution_count": 1,
   "id": "bdbbd6c4",
   "metadata": {
    "scrolled": true
   },
   "outputs": [
    {
     "data": {
      "text/html": [
       "<div>\n",
       "<style scoped>\n",
       "    .dataframe tbody tr th:only-of-type {\n",
       "        vertical-align: middle;\n",
       "    }\n",
       "\n",
       "    .dataframe tbody tr th {\n",
       "        vertical-align: top;\n",
       "    }\n",
       "\n",
       "    .dataframe thead th {\n",
       "        text-align: right;\n",
       "    }\n",
       "</style>\n",
       "<table border=\"1\" class=\"dataframe\">\n",
       "  <thead>\n",
       "    <tr style=\"text-align: right;\">\n",
       "      <th></th>\n",
       "      <th>id</th>\n",
       "      <th>Manufacturer</th>\n",
       "      <th>Model</th>\n",
       "      <th>Type</th>\n",
       "      <th>Min.Price</th>\n",
       "      <th>Price</th>\n",
       "      <th>Max.Price</th>\n",
       "      <th>MPG.city</th>\n",
       "      <th>MPG.highway</th>\n",
       "      <th>AirBags</th>\n",
       "      <th>...</th>\n",
       "      <th>Passengers</th>\n",
       "      <th>Length</th>\n",
       "      <th>Wheelbase</th>\n",
       "      <th>Width</th>\n",
       "      <th>Turn.circle</th>\n",
       "      <th>Rear.seat.room</th>\n",
       "      <th>Luggage.room</th>\n",
       "      <th>Weight</th>\n",
       "      <th>Origin</th>\n",
       "      <th>Make</th>\n",
       "    </tr>\n",
       "  </thead>\n",
       "  <tbody>\n",
       "    <tr>\n",
       "      <th>0</th>\n",
       "      <td>1</td>\n",
       "      <td>Acura</td>\n",
       "      <td>Integra</td>\n",
       "      <td>Small</td>\n",
       "      <td>12.9</td>\n",
       "      <td>15.9</td>\n",
       "      <td>18.8</td>\n",
       "      <td>25</td>\n",
       "      <td>31</td>\n",
       "      <td>None</td>\n",
       "      <td>...</td>\n",
       "      <td>5</td>\n",
       "      <td>177</td>\n",
       "      <td>102</td>\n",
       "      <td>68</td>\n",
       "      <td>37</td>\n",
       "      <td>26.5</td>\n",
       "      <td>11.0</td>\n",
       "      <td>2705</td>\n",
       "      <td>non-USA</td>\n",
       "      <td>Acura Integra</td>\n",
       "    </tr>\n",
       "    <tr>\n",
       "      <th>1</th>\n",
       "      <td>2</td>\n",
       "      <td>Acura</td>\n",
       "      <td>Legend</td>\n",
       "      <td>Midsize</td>\n",
       "      <td>29.2</td>\n",
       "      <td>33.9</td>\n",
       "      <td>38.7</td>\n",
       "      <td>18</td>\n",
       "      <td>25</td>\n",
       "      <td>Driver &amp; Passenger</td>\n",
       "      <td>...</td>\n",
       "      <td>5</td>\n",
       "      <td>195</td>\n",
       "      <td>115</td>\n",
       "      <td>71</td>\n",
       "      <td>38</td>\n",
       "      <td>30.0</td>\n",
       "      <td>15.0</td>\n",
       "      <td>3560</td>\n",
       "      <td>non-USA</td>\n",
       "      <td>Acura Legend</td>\n",
       "    </tr>\n",
       "    <tr>\n",
       "      <th>2</th>\n",
       "      <td>3</td>\n",
       "      <td>Audi</td>\n",
       "      <td>90</td>\n",
       "      <td>Compact</td>\n",
       "      <td>25.9</td>\n",
       "      <td>29.1</td>\n",
       "      <td>32.3</td>\n",
       "      <td>20</td>\n",
       "      <td>26</td>\n",
       "      <td>Driver only</td>\n",
       "      <td>...</td>\n",
       "      <td>5</td>\n",
       "      <td>180</td>\n",
       "      <td>102</td>\n",
       "      <td>67</td>\n",
       "      <td>37</td>\n",
       "      <td>28.0</td>\n",
       "      <td>14.0</td>\n",
       "      <td>3375</td>\n",
       "      <td>non-USA</td>\n",
       "      <td>Audi 90</td>\n",
       "    </tr>\n",
       "    <tr>\n",
       "      <th>3</th>\n",
       "      <td>4</td>\n",
       "      <td>Audi</td>\n",
       "      <td>100</td>\n",
       "      <td>Midsize</td>\n",
       "      <td>30.8</td>\n",
       "      <td>37.7</td>\n",
       "      <td>44.6</td>\n",
       "      <td>19</td>\n",
       "      <td>26</td>\n",
       "      <td>NaN</td>\n",
       "      <td>...</td>\n",
       "      <td>6</td>\n",
       "      <td>193</td>\n",
       "      <td>106</td>\n",
       "      <td>70</td>\n",
       "      <td>37</td>\n",
       "      <td>31.0</td>\n",
       "      <td>17.0</td>\n",
       "      <td>3405</td>\n",
       "      <td>non-USA</td>\n",
       "      <td>Audi 100</td>\n",
       "    </tr>\n",
       "    <tr>\n",
       "      <th>4</th>\n",
       "      <td>5</td>\n",
       "      <td>BMW</td>\n",
       "      <td>535i</td>\n",
       "      <td>Midsize</td>\n",
       "      <td>23.7</td>\n",
       "      <td>30.0</td>\n",
       "      <td>36.2</td>\n",
       "      <td>22</td>\n",
       "      <td>30</td>\n",
       "      <td>Driver only</td>\n",
       "      <td>...</td>\n",
       "      <td>4</td>\n",
       "      <td>186</td>\n",
       "      <td>109</td>\n",
       "      <td>69</td>\n",
       "      <td>39</td>\n",
       "      <td>27.0</td>\n",
       "      <td>13.0</td>\n",
       "      <td>3640</td>\n",
       "      <td>non-USA</td>\n",
       "      <td>BMW 535i</td>\n",
       "    </tr>\n",
       "  </tbody>\n",
       "</table>\n",
       "<p>5 rows × 28 columns</p>\n",
       "</div>"
      ],
      "text/plain": [
       "   id Manufacturer    Model     Type  Min.Price  Price  Max.Price  MPG.city  \\\n",
       "0   1        Acura  Integra    Small       12.9   15.9       18.8        25   \n",
       "1   2        Acura   Legend  Midsize       29.2   33.9       38.7        18   \n",
       "2   3         Audi       90  Compact       25.9   29.1       32.3        20   \n",
       "3   4         Audi      100  Midsize       30.8   37.7       44.6        19   \n",
       "4   5          BMW     535i  Midsize       23.7   30.0       36.2        22   \n",
       "\n",
       "   MPG.highway             AirBags  ... Passengers Length  Wheelbase  Width  \\\n",
       "0           31                None  ...          5    177        102     68   \n",
       "1           25  Driver & Passenger  ...          5    195        115     71   \n",
       "2           26         Driver only  ...          5    180        102     67   \n",
       "3           26                 NaN  ...          6    193        106     70   \n",
       "4           30         Driver only  ...          4    186        109     69   \n",
       "\n",
       "   Turn.circle  Rear.seat.room Luggage.room  Weight   Origin           Make  \n",
       "0           37            26.5         11.0    2705  non-USA  Acura Integra  \n",
       "1           38            30.0         15.0    3560  non-USA   Acura Legend  \n",
       "2           37            28.0         14.0    3375  non-USA        Audi 90  \n",
       "3           37            31.0         17.0    3405  non-USA       Audi 100  \n",
       "4           39            27.0         13.0    3640  non-USA       BMW 535i  \n",
       "\n",
       "[5 rows x 28 columns]"
      ]
     },
     "execution_count": 1,
     "metadata": {},
     "output_type": "execute_result"
    }
   ],
   "source": [
    "from warnings import filterwarnings\n",
    "filterwarnings(\"ignore\")\n",
    "import pandas as pd\n",
    "A=pd.read_csv(\"C:/Users/mitta/OneDrive/Desktop/ETLHive/Data/Cars93.csv\")\n",
    "A.head()"
   ]
  },
  {
   "cell_type": "code",
   "execution_count": 2,
   "id": "6ed8e67c",
   "metadata": {},
   "outputs": [
    {
     "data": {
      "text/html": [
       "<div>\n",
       "<style scoped>\n",
       "    .dataframe tbody tr th:only-of-type {\n",
       "        vertical-align: middle;\n",
       "    }\n",
       "\n",
       "    .dataframe tbody tr th {\n",
       "        vertical-align: top;\n",
       "    }\n",
       "\n",
       "    .dataframe thead th {\n",
       "        text-align: right;\n",
       "    }\n",
       "</style>\n",
       "<table border=\"1\" class=\"dataframe\">\n",
       "  <thead>\n",
       "    <tr style=\"text-align: right;\">\n",
       "      <th></th>\n",
       "      <th>id</th>\n",
       "      <th>Manufacturer</th>\n",
       "      <th>Model</th>\n",
       "      <th>Type</th>\n",
       "      <th>Min.Price</th>\n",
       "      <th>Price</th>\n",
       "      <th>Max.Price</th>\n",
       "      <th>MPG.city</th>\n",
       "      <th>MPG.highway</th>\n",
       "      <th>AirBags</th>\n",
       "      <th>DriveTrain</th>\n",
       "      <th>Cylinders</th>\n",
       "      <th>EngineSize</th>\n",
       "      <th>Horsepower</th>\n",
       "      <th>RPM</th>\n",
       "      <th>Rev.per.mile</th>\n",
       "      <th>Man.trans.avail</th>\n",
       "      <th>Fuel.tank.capacity</th>\n",
       "      <th>Passengers</th>\n",
       "      <th>Length</th>\n",
       "      <th>Wheelbase</th>\n",
       "      <th>Width</th>\n",
       "      <th>Turn.circle</th>\n",
       "      <th>Rear.seat.room</th>\n",
       "      <th>Luggage.room</th>\n",
       "      <th>Weight</th>\n",
       "      <th>Origin</th>\n",
       "      <th>Make</th>\n",
       "    </tr>\n",
       "  </thead>\n",
       "  <tbody>\n",
       "    <tr>\n",
       "      <th>0</th>\n",
       "      <td>1</td>\n",
       "      <td>Acura</td>\n",
       "      <td>Integra</td>\n",
       "      <td>Small</td>\n",
       "      <td>12.9</td>\n",
       "      <td>15.9</td>\n",
       "      <td>18.8</td>\n",
       "      <td>25</td>\n",
       "      <td>31</td>\n",
       "      <td>None</td>\n",
       "      <td>Front</td>\n",
       "      <td>4</td>\n",
       "      <td>1.8</td>\n",
       "      <td>140</td>\n",
       "      <td>6300</td>\n",
       "      <td>2890</td>\n",
       "      <td>Yes</td>\n",
       "      <td>13.2</td>\n",
       "      <td>5</td>\n",
       "      <td>177</td>\n",
       "      <td>102</td>\n",
       "      <td>68</td>\n",
       "      <td>37</td>\n",
       "      <td>26.5</td>\n",
       "      <td>11.0</td>\n",
       "      <td>2705</td>\n",
       "      <td>non-USA</td>\n",
       "      <td>Acura Integra</td>\n",
       "    </tr>\n",
       "    <tr>\n",
       "      <th>1</th>\n",
       "      <td>2</td>\n",
       "      <td>Acura</td>\n",
       "      <td>Legend</td>\n",
       "      <td>Midsize</td>\n",
       "      <td>29.2</td>\n",
       "      <td>33.9</td>\n",
       "      <td>38.7</td>\n",
       "      <td>18</td>\n",
       "      <td>25</td>\n",
       "      <td>Driver &amp; Passenger</td>\n",
       "      <td>Front</td>\n",
       "      <td>6</td>\n",
       "      <td>3.2</td>\n",
       "      <td>200</td>\n",
       "      <td>5500</td>\n",
       "      <td>2335</td>\n",
       "      <td>Yes</td>\n",
       "      <td>18.0</td>\n",
       "      <td>5</td>\n",
       "      <td>195</td>\n",
       "      <td>115</td>\n",
       "      <td>71</td>\n",
       "      <td>38</td>\n",
       "      <td>30.0</td>\n",
       "      <td>15.0</td>\n",
       "      <td>3560</td>\n",
       "      <td>non-USA</td>\n",
       "      <td>Acura Legend</td>\n",
       "    </tr>\n",
       "    <tr>\n",
       "      <th>2</th>\n",
       "      <td>3</td>\n",
       "      <td>Audi</td>\n",
       "      <td>90</td>\n",
       "      <td>Compact</td>\n",
       "      <td>25.9</td>\n",
       "      <td>29.1</td>\n",
       "      <td>32.3</td>\n",
       "      <td>20</td>\n",
       "      <td>26</td>\n",
       "      <td>Driver only</td>\n",
       "      <td>Front</td>\n",
       "      <td>6</td>\n",
       "      <td>2.8</td>\n",
       "      <td>172</td>\n",
       "      <td>5500</td>\n",
       "      <td>2280</td>\n",
       "      <td>Yes</td>\n",
       "      <td>16.9</td>\n",
       "      <td>5</td>\n",
       "      <td>180</td>\n",
       "      <td>102</td>\n",
       "      <td>67</td>\n",
       "      <td>37</td>\n",
       "      <td>28.0</td>\n",
       "      <td>14.0</td>\n",
       "      <td>3375</td>\n",
       "      <td>non-USA</td>\n",
       "      <td>Audi 90</td>\n",
       "    </tr>\n",
       "    <tr>\n",
       "      <th>3</th>\n",
       "      <td>4</td>\n",
       "      <td>Audi</td>\n",
       "      <td>100</td>\n",
       "      <td>Midsize</td>\n",
       "      <td>30.8</td>\n",
       "      <td>37.7</td>\n",
       "      <td>44.6</td>\n",
       "      <td>19</td>\n",
       "      <td>26</td>\n",
       "      <td>NaN</td>\n",
       "      <td>Front</td>\n",
       "      <td>6</td>\n",
       "      <td>2.8</td>\n",
       "      <td>172</td>\n",
       "      <td>5500</td>\n",
       "      <td>2535</td>\n",
       "      <td>Yes</td>\n",
       "      <td>21.1</td>\n",
       "      <td>6</td>\n",
       "      <td>193</td>\n",
       "      <td>106</td>\n",
       "      <td>70</td>\n",
       "      <td>37</td>\n",
       "      <td>31.0</td>\n",
       "      <td>17.0</td>\n",
       "      <td>3405</td>\n",
       "      <td>non-USA</td>\n",
       "      <td>Audi 100</td>\n",
       "    </tr>\n",
       "    <tr>\n",
       "      <th>4</th>\n",
       "      <td>5</td>\n",
       "      <td>BMW</td>\n",
       "      <td>535i</td>\n",
       "      <td>Midsize</td>\n",
       "      <td>23.7</td>\n",
       "      <td>30.0</td>\n",
       "      <td>36.2</td>\n",
       "      <td>22</td>\n",
       "      <td>30</td>\n",
       "      <td>Driver only</td>\n",
       "      <td>Rear</td>\n",
       "      <td>4</td>\n",
       "      <td>3.5</td>\n",
       "      <td>208</td>\n",
       "      <td>5700</td>\n",
       "      <td>2545</td>\n",
       "      <td>Yes</td>\n",
       "      <td>21.1</td>\n",
       "      <td>4</td>\n",
       "      <td>186</td>\n",
       "      <td>109</td>\n",
       "      <td>69</td>\n",
       "      <td>39</td>\n",
       "      <td>27.0</td>\n",
       "      <td>13.0</td>\n",
       "      <td>3640</td>\n",
       "      <td>non-USA</td>\n",
       "      <td>BMW 535i</td>\n",
       "    </tr>\n",
       "  </tbody>\n",
       "</table>\n",
       "</div>"
      ],
      "text/plain": [
       "   id Manufacturer    Model     Type  Min.Price  Price  Max.Price  MPG.city  \\\n",
       "0   1        Acura  Integra    Small       12.9   15.9       18.8        25   \n",
       "1   2        Acura   Legend  Midsize       29.2   33.9       38.7        18   \n",
       "2   3         Audi       90  Compact       25.9   29.1       32.3        20   \n",
       "3   4         Audi      100  Midsize       30.8   37.7       44.6        19   \n",
       "4   5          BMW     535i  Midsize       23.7   30.0       36.2        22   \n",
       "\n",
       "   MPG.highway             AirBags DriveTrain Cylinders  EngineSize  \\\n",
       "0           31                None      Front         4         1.8   \n",
       "1           25  Driver & Passenger      Front         6         3.2   \n",
       "2           26         Driver only      Front         6         2.8   \n",
       "3           26                 NaN      Front         6         2.8   \n",
       "4           30         Driver only       Rear         4         3.5   \n",
       "\n",
       "   Horsepower   RPM  Rev.per.mile Man.trans.avail  Fuel.tank.capacity  \\\n",
       "0         140  6300          2890             Yes                13.2   \n",
       "1         200  5500          2335             Yes                18.0   \n",
       "2         172  5500          2280             Yes                16.9   \n",
       "3         172  5500          2535             Yes                21.1   \n",
       "4         208  5700          2545             Yes                21.1   \n",
       "\n",
       "   Passengers  Length  Wheelbase  Width  Turn.circle  Rear.seat.room  \\\n",
       "0           5     177        102     68           37            26.5   \n",
       "1           5     195        115     71           38            30.0   \n",
       "2           5     180        102     67           37            28.0   \n",
       "3           6     193        106     70           37            31.0   \n",
       "4           4     186        109     69           39            27.0   \n",
       "\n",
       "   Luggage.room  Weight   Origin           Make  \n",
       "0          11.0    2705  non-USA  Acura Integra  \n",
       "1          15.0    3560  non-USA   Acura Legend  \n",
       "2          14.0    3375  non-USA        Audi 90  \n",
       "3          17.0    3405  non-USA       Audi 100  \n",
       "4          13.0    3640  non-USA       BMW 535i  "
      ]
     },
     "execution_count": 2,
     "metadata": {},
     "output_type": "execute_result"
    }
   ],
   "source": [
    "pd.set_option(\"display.max_columns\" , 30)\n",
    "A.head()"
   ]
  },
  {
   "cell_type": "code",
   "execution_count": 3,
   "id": "5fcf94a5",
   "metadata": {},
   "outputs": [
    {
     "data": {
      "text/html": [
       "<div>\n",
       "<style scoped>\n",
       "    .dataframe tbody tr th:only-of-type {\n",
       "        vertical-align: middle;\n",
       "    }\n",
       "\n",
       "    .dataframe tbody tr th {\n",
       "        vertical-align: top;\n",
       "    }\n",
       "\n",
       "    .dataframe thead th {\n",
       "        text-align: right;\n",
       "    }\n",
       "</style>\n",
       "<table border=\"1\" class=\"dataframe\">\n",
       "  <thead>\n",
       "    <tr style=\"text-align: right;\">\n",
       "      <th></th>\n",
       "      <th>Manufacturer</th>\n",
       "      <th>Type</th>\n",
       "      <th>Min.Price</th>\n",
       "      <th>Price</th>\n",
       "      <th>Max.Price</th>\n",
       "      <th>MPG.city</th>\n",
       "      <th>MPG.highway</th>\n",
       "      <th>AirBags</th>\n",
       "      <th>DriveTrain</th>\n",
       "      <th>Cylinders</th>\n",
       "      <th>EngineSize</th>\n",
       "      <th>Horsepower</th>\n",
       "      <th>RPM</th>\n",
       "      <th>Rev.per.mile</th>\n",
       "      <th>Man.trans.avail</th>\n",
       "      <th>Fuel.tank.capacity</th>\n",
       "      <th>Passengers</th>\n",
       "      <th>Length</th>\n",
       "      <th>Wheelbase</th>\n",
       "      <th>Width</th>\n",
       "      <th>Turn.circle</th>\n",
       "      <th>Rear.seat.room</th>\n",
       "      <th>Luggage.room</th>\n",
       "      <th>Weight</th>\n",
       "      <th>Origin</th>\n",
       "    </tr>\n",
       "  </thead>\n",
       "  <tbody>\n",
       "    <tr>\n",
       "      <th>0</th>\n",
       "      <td>Acura</td>\n",
       "      <td>Small</td>\n",
       "      <td>12.9</td>\n",
       "      <td>15.9</td>\n",
       "      <td>18.8</td>\n",
       "      <td>25</td>\n",
       "      <td>31</td>\n",
       "      <td>None</td>\n",
       "      <td>Front</td>\n",
       "      <td>4</td>\n",
       "      <td>1.8</td>\n",
       "      <td>140</td>\n",
       "      <td>6300</td>\n",
       "      <td>2890</td>\n",
       "      <td>Yes</td>\n",
       "      <td>13.2</td>\n",
       "      <td>5</td>\n",
       "      <td>177</td>\n",
       "      <td>102</td>\n",
       "      <td>68</td>\n",
       "      <td>37</td>\n",
       "      <td>26.5</td>\n",
       "      <td>11.0</td>\n",
       "      <td>2705</td>\n",
       "      <td>non-USA</td>\n",
       "    </tr>\n",
       "    <tr>\n",
       "      <th>1</th>\n",
       "      <td>Acura</td>\n",
       "      <td>Midsize</td>\n",
       "      <td>29.2</td>\n",
       "      <td>33.9</td>\n",
       "      <td>38.7</td>\n",
       "      <td>18</td>\n",
       "      <td>25</td>\n",
       "      <td>Driver &amp; Passenger</td>\n",
       "      <td>Front</td>\n",
       "      <td>6</td>\n",
       "      <td>3.2</td>\n",
       "      <td>200</td>\n",
       "      <td>5500</td>\n",
       "      <td>2335</td>\n",
       "      <td>Yes</td>\n",
       "      <td>18.0</td>\n",
       "      <td>5</td>\n",
       "      <td>195</td>\n",
       "      <td>115</td>\n",
       "      <td>71</td>\n",
       "      <td>38</td>\n",
       "      <td>30.0</td>\n",
       "      <td>15.0</td>\n",
       "      <td>3560</td>\n",
       "      <td>non-USA</td>\n",
       "    </tr>\n",
       "    <tr>\n",
       "      <th>2</th>\n",
       "      <td>Audi</td>\n",
       "      <td>Compact</td>\n",
       "      <td>25.9</td>\n",
       "      <td>29.1</td>\n",
       "      <td>32.3</td>\n",
       "      <td>20</td>\n",
       "      <td>26</td>\n",
       "      <td>Driver only</td>\n",
       "      <td>Front</td>\n",
       "      <td>6</td>\n",
       "      <td>2.8</td>\n",
       "      <td>172</td>\n",
       "      <td>5500</td>\n",
       "      <td>2280</td>\n",
       "      <td>Yes</td>\n",
       "      <td>16.9</td>\n",
       "      <td>5</td>\n",
       "      <td>180</td>\n",
       "      <td>102</td>\n",
       "      <td>67</td>\n",
       "      <td>37</td>\n",
       "      <td>28.0</td>\n",
       "      <td>14.0</td>\n",
       "      <td>3375</td>\n",
       "      <td>non-USA</td>\n",
       "    </tr>\n",
       "    <tr>\n",
       "      <th>3</th>\n",
       "      <td>Audi</td>\n",
       "      <td>Midsize</td>\n",
       "      <td>30.8</td>\n",
       "      <td>37.7</td>\n",
       "      <td>44.6</td>\n",
       "      <td>19</td>\n",
       "      <td>26</td>\n",
       "      <td>NaN</td>\n",
       "      <td>Front</td>\n",
       "      <td>6</td>\n",
       "      <td>2.8</td>\n",
       "      <td>172</td>\n",
       "      <td>5500</td>\n",
       "      <td>2535</td>\n",
       "      <td>Yes</td>\n",
       "      <td>21.1</td>\n",
       "      <td>6</td>\n",
       "      <td>193</td>\n",
       "      <td>106</td>\n",
       "      <td>70</td>\n",
       "      <td>37</td>\n",
       "      <td>31.0</td>\n",
       "      <td>17.0</td>\n",
       "      <td>3405</td>\n",
       "      <td>non-USA</td>\n",
       "    </tr>\n",
       "    <tr>\n",
       "      <th>4</th>\n",
       "      <td>BMW</td>\n",
       "      <td>Midsize</td>\n",
       "      <td>23.7</td>\n",
       "      <td>30.0</td>\n",
       "      <td>36.2</td>\n",
       "      <td>22</td>\n",
       "      <td>30</td>\n",
       "      <td>Driver only</td>\n",
       "      <td>Rear</td>\n",
       "      <td>4</td>\n",
       "      <td>3.5</td>\n",
       "      <td>208</td>\n",
       "      <td>5700</td>\n",
       "      <td>2545</td>\n",
       "      <td>Yes</td>\n",
       "      <td>21.1</td>\n",
       "      <td>4</td>\n",
       "      <td>186</td>\n",
       "      <td>109</td>\n",
       "      <td>69</td>\n",
       "      <td>39</td>\n",
       "      <td>27.0</td>\n",
       "      <td>13.0</td>\n",
       "      <td>3640</td>\n",
       "      <td>non-USA</td>\n",
       "    </tr>\n",
       "  </tbody>\n",
       "</table>\n",
       "</div>"
      ],
      "text/plain": [
       "  Manufacturer     Type  Min.Price  Price  Max.Price  MPG.city  MPG.highway  \\\n",
       "0        Acura    Small       12.9   15.9       18.8        25           31   \n",
       "1        Acura  Midsize       29.2   33.9       38.7        18           25   \n",
       "2         Audi  Compact       25.9   29.1       32.3        20           26   \n",
       "3         Audi  Midsize       30.8   37.7       44.6        19           26   \n",
       "4          BMW  Midsize       23.7   30.0       36.2        22           30   \n",
       "\n",
       "              AirBags DriveTrain Cylinders  EngineSize  Horsepower   RPM  \\\n",
       "0                None      Front         4         1.8         140  6300   \n",
       "1  Driver & Passenger      Front         6         3.2         200  5500   \n",
       "2         Driver only      Front         6         2.8         172  5500   \n",
       "3                 NaN      Front         6         2.8         172  5500   \n",
       "4         Driver only       Rear         4         3.5         208  5700   \n",
       "\n",
       "   Rev.per.mile Man.trans.avail  Fuel.tank.capacity  Passengers  Length  \\\n",
       "0          2890             Yes                13.2           5     177   \n",
       "1          2335             Yes                18.0           5     195   \n",
       "2          2280             Yes                16.9           5     180   \n",
       "3          2535             Yes                21.1           6     193   \n",
       "4          2545             Yes                21.1           4     186   \n",
       "\n",
       "   Wheelbase  Width  Turn.circle  Rear.seat.room  Luggage.room  Weight  \\\n",
       "0        102     68           37            26.5          11.0    2705   \n",
       "1        115     71           38            30.0          15.0    3560   \n",
       "2        102     67           37            28.0          14.0    3375   \n",
       "3        106     70           37            31.0          17.0    3405   \n",
       "4        109     69           39            27.0          13.0    3640   \n",
       "\n",
       "    Origin  \n",
       "0  non-USA  \n",
       "1  non-USA  \n",
       "2  non-USA  \n",
       "3  non-USA  \n",
       "4  non-USA  "
      ]
     },
     "execution_count": 3,
     "metadata": {},
     "output_type": "execute_result"
    }
   ],
   "source": [
    "A=A.drop(labels=[\"id\" , \"Make\" , \"Model\"], axis=1)\n",
    "A.head()"
   ]
  },
  {
   "cell_type": "code",
   "execution_count": 4,
   "id": "125c42f5",
   "metadata": {},
   "outputs": [],
   "source": [
    "from PM6_wd import replacer\n",
    "replacer(A)"
   ]
  },
  {
   "cell_type": "code",
   "execution_count": 5,
   "id": "acdcc11c",
   "metadata": {},
   "outputs": [
    {
     "data": {
      "text/plain": [
       "Manufacturer          0\n",
       "Type                  0\n",
       "Min.Price             0\n",
       "Price                 0\n",
       "Max.Price             0\n",
       "MPG.city              0\n",
       "MPG.highway           0\n",
       "AirBags               0\n",
       "DriveTrain            0\n",
       "Cylinders             0\n",
       "EngineSize            0\n",
       "Horsepower            0\n",
       "RPM                   0\n",
       "Rev.per.mile          0\n",
       "Man.trans.avail       0\n",
       "Fuel.tank.capacity    0\n",
       "Passengers            0\n",
       "Length                0\n",
       "Wheelbase             0\n",
       "Width                 0\n",
       "Turn.circle           0\n",
       "Rear.seat.room        0\n",
       "Luggage.room          0\n",
       "Weight                0\n",
       "Origin                0\n",
       "dtype: int64"
      ]
     },
     "execution_count": 5,
     "metadata": {},
     "output_type": "execute_result"
    }
   ],
   "source": [
    "A.isna().sum()"
   ]
  },
  {
   "cell_type": "code",
   "execution_count": 6,
   "id": "89428b71",
   "metadata": {},
   "outputs": [],
   "source": [
    "from PM6_wd import catcon\n",
    "cat,con = catcon(A)"
   ]
  },
  {
   "cell_type": "code",
   "execution_count": 7,
   "id": "d4f59da4",
   "metadata": {},
   "outputs": [
    {
     "data": {
      "text/html": [
       "<div>\n",
       "<style scoped>\n",
       "    .dataframe tbody tr th:only-of-type {\n",
       "        vertical-align: middle;\n",
       "    }\n",
       "\n",
       "    .dataframe tbody tr th {\n",
       "        vertical-align: top;\n",
       "    }\n",
       "\n",
       "    .dataframe thead th {\n",
       "        text-align: right;\n",
       "    }\n",
       "</style>\n",
       "<table border=\"1\" class=\"dataframe\">\n",
       "  <thead>\n",
       "    <tr style=\"text-align: right;\">\n",
       "      <th></th>\n",
       "      <th>Min.Price</th>\n",
       "      <th>Price</th>\n",
       "      <th>Max.Price</th>\n",
       "      <th>MPG.city</th>\n",
       "      <th>MPG.highway</th>\n",
       "      <th>EngineSize</th>\n",
       "      <th>Horsepower</th>\n",
       "      <th>RPM</th>\n",
       "      <th>Rev.per.mile</th>\n",
       "      <th>Fuel.tank.capacity</th>\n",
       "      <th>Passengers</th>\n",
       "      <th>Length</th>\n",
       "      <th>Wheelbase</th>\n",
       "      <th>Width</th>\n",
       "      <th>Turn.circle</th>\n",
       "      <th>Rear.seat.room</th>\n",
       "      <th>Luggage.room</th>\n",
       "      <th>Weight</th>\n",
       "    </tr>\n",
       "  </thead>\n",
       "  <tbody>\n",
       "    <tr>\n",
       "      <th>0</th>\n",
       "      <td>-0.485787</td>\n",
       "      <td>-0.375720</td>\n",
       "      <td>-0.282465</td>\n",
       "      <td>0.471312</td>\n",
       "      <td>0.360925</td>\n",
       "      <td>-0.841022</td>\n",
       "      <td>-0.073484</td>\n",
       "      <td>1.717489</td>\n",
       "      <td>1.129530</td>\n",
       "      <td>-1.062184</td>\n",
       "      <td>-0.083243</td>\n",
       "      <td>-0.427186</td>\n",
       "      <td>-0.286932</td>\n",
       "      <td>-0.366184</td>\n",
       "      <td>-0.610436</td>\n",
       "      <td>-0.452197</td>\n",
       "      <td>-1.033015</td>\n",
       "      <td>-0.627055</td>\n",
       "    </tr>\n",
       "    <tr>\n",
       "      <th>1</th>\n",
       "      <td>1.388017</td>\n",
       "      <td>1.497844</td>\n",
       "      <td>1.531409</td>\n",
       "      <td>-0.781032</td>\n",
       "      <td>-0.770514</td>\n",
       "      <td>0.515869</td>\n",
       "      <td>1.078322</td>\n",
       "      <td>0.369586</td>\n",
       "      <td>0.005661</td>\n",
       "      <td>0.409445</td>\n",
       "      <td>-0.083243</td>\n",
       "      <td>0.812171</td>\n",
       "      <td>1.629649</td>\n",
       "      <td>0.431983</td>\n",
       "      <td>-0.298510</td>\n",
       "      <td>0.738090</td>\n",
       "      <td>0.396643</td>\n",
       "      <td>0.830208</td>\n",
       "    </tr>\n",
       "    <tr>\n",
       "      <th>2</th>\n",
       "      <td>1.008658</td>\n",
       "      <td>0.998227</td>\n",
       "      <td>0.948052</td>\n",
       "      <td>-0.423219</td>\n",
       "      <td>-0.581941</td>\n",
       "      <td>0.128186</td>\n",
       "      <td>0.540813</td>\n",
       "      <td>0.369586</td>\n",
       "      <td>-0.105713</td>\n",
       "      <td>0.072197</td>\n",
       "      <td>-0.083243</td>\n",
       "      <td>-0.220626</td>\n",
       "      <td>-0.286932</td>\n",
       "      <td>-0.632239</td>\n",
       "      <td>-0.610436</td>\n",
       "      <td>0.057926</td>\n",
       "      <td>0.039228</td>\n",
       "      <td>0.514894</td>\n",
       "    </tr>\n",
       "    <tr>\n",
       "      <th>3</th>\n",
       "      <td>1.571949</td>\n",
       "      <td>1.893374</td>\n",
       "      <td>2.069191</td>\n",
       "      <td>-0.602126</td>\n",
       "      <td>-0.581941</td>\n",
       "      <td>0.128186</td>\n",
       "      <td>0.540813</td>\n",
       "      <td>0.369586</td>\n",
       "      <td>0.410659</td>\n",
       "      <td>1.359872</td>\n",
       "      <td>0.884457</td>\n",
       "      <td>0.674465</td>\n",
       "      <td>0.302785</td>\n",
       "      <td>0.165927</td>\n",
       "      <td>-0.610436</td>\n",
       "      <td>1.078172</td>\n",
       "      <td>1.111472</td>\n",
       "      <td>0.566026</td>\n",
       "    </tr>\n",
       "    <tr>\n",
       "      <th>4</th>\n",
       "      <td>0.755752</td>\n",
       "      <td>1.091905</td>\n",
       "      <td>1.303535</td>\n",
       "      <td>-0.065407</td>\n",
       "      <td>0.172352</td>\n",
       "      <td>0.806631</td>\n",
       "      <td>1.231897</td>\n",
       "      <td>0.706562</td>\n",
       "      <td>0.430909</td>\n",
       "      <td>1.359872</td>\n",
       "      <td>-1.050944</td>\n",
       "      <td>0.192493</td>\n",
       "      <td>0.745073</td>\n",
       "      <td>-0.100128</td>\n",
       "      <td>0.013416</td>\n",
       "      <td>-0.282156</td>\n",
       "      <td>-0.318186</td>\n",
       "      <td>0.966560</td>\n",
       "    </tr>\n",
       "    <tr>\n",
       "      <th>...</th>\n",
       "      <td>...</td>\n",
       "      <td>...</td>\n",
       "      <td>...</td>\n",
       "      <td>...</td>\n",
       "      <td>...</td>\n",
       "      <td>...</td>\n",
       "      <td>...</td>\n",
       "      <td>...</td>\n",
       "      <td>...</td>\n",
       "      <td>...</td>\n",
       "      <td>...</td>\n",
       "      <td>...</td>\n",
       "      <td>...</td>\n",
       "      <td>...</td>\n",
       "      <td>...</td>\n",
       "      <td>...</td>\n",
       "      <td>...</td>\n",
       "      <td>...</td>\n",
       "    </tr>\n",
       "    <tr>\n",
       "      <th>88</th>\n",
       "      <td>-0.060445</td>\n",
       "      <td>0.019810</td>\n",
       "      <td>0.073018</td>\n",
       "      <td>-0.959938</td>\n",
       "      <td>-1.524806</td>\n",
       "      <td>-0.162577</td>\n",
       "      <td>-0.668585</td>\n",
       "      <td>-1.315292</td>\n",
       "      <td>1.180155</td>\n",
       "      <td>1.359872</td>\n",
       "      <td>1.852158</td>\n",
       "      <td>0.261346</td>\n",
       "      <td>1.629649</td>\n",
       "      <td>0.698038</td>\n",
       "      <td>-0.298510</td>\n",
       "      <td>2.098419</td>\n",
       "      <td>0.000000</td>\n",
       "      <td>1.511968</td>\n",
       "    </tr>\n",
       "    <tr>\n",
       "      <th>89</th>\n",
       "      <td>0.054512</td>\n",
       "      <td>0.051036</td>\n",
       "      <td>0.045673</td>\n",
       "      <td>-0.244313</td>\n",
       "      <td>0.172352</td>\n",
       "      <td>-0.647181</td>\n",
       "      <td>-0.188665</td>\n",
       "      <td>0.875050</td>\n",
       "      <td>0.714407</td>\n",
       "      <td>0.562740</td>\n",
       "      <td>-0.083243</td>\n",
       "      <td>-0.220626</td>\n",
       "      <td>-0.139503</td>\n",
       "      <td>-0.632239</td>\n",
       "      <td>-1.234288</td>\n",
       "      <td>1.248213</td>\n",
       "      <td>0.039228</td>\n",
       "      <td>-0.149822</td>\n",
       "    </tr>\n",
       "    <tr>\n",
       "      <th>90</th>\n",
       "      <td>0.663786</td>\n",
       "      <td>0.394523</td>\n",
       "      <td>0.164167</td>\n",
       "      <td>-0.781032</td>\n",
       "      <td>-0.770514</td>\n",
       "      <td>0.128186</td>\n",
       "      <td>0.655993</td>\n",
       "      <td>0.875050</td>\n",
       "      <td>0.106911</td>\n",
       "      <td>0.562740</td>\n",
       "      <td>-1.050944</td>\n",
       "      <td>-1.666543</td>\n",
       "      <td>-1.024079</td>\n",
       "      <td>-0.898295</td>\n",
       "      <td>-0.922362</td>\n",
       "      <td>-0.622238</td>\n",
       "      <td>0.396643</td>\n",
       "      <td>-0.448092</td>\n",
       "    </tr>\n",
       "    <tr>\n",
       "      <th>91</th>\n",
       "      <td>0.537333</td>\n",
       "      <td>0.332071</td>\n",
       "      <td>0.145937</td>\n",
       "      <td>-0.244313</td>\n",
       "      <td>-0.204794</td>\n",
       "      <td>-0.356418</td>\n",
       "      <td>-0.572601</td>\n",
       "      <td>0.201098</td>\n",
       "      <td>-0.237337</td>\n",
       "      <td>-0.265051</td>\n",
       "      <td>-0.083243</td>\n",
       "      <td>0.467905</td>\n",
       "      <td>0.007926</td>\n",
       "      <td>-0.632239</td>\n",
       "      <td>-0.610436</td>\n",
       "      <td>0.568049</td>\n",
       "      <td>0.039228</td>\n",
       "      <td>-0.149822</td>\n",
       "    </tr>\n",
       "    <tr>\n",
       "      <th>92</th>\n",
       "      <td>0.882205</td>\n",
       "      <td>0.748418</td>\n",
       "      <td>0.601684</td>\n",
       "      <td>-0.423219</td>\n",
       "      <td>-0.204794</td>\n",
       "      <td>-0.259498</td>\n",
       "      <td>0.464025</td>\n",
       "      <td>1.549001</td>\n",
       "      <td>-0.044963</td>\n",
       "      <td>0.808011</td>\n",
       "      <td>-0.083243</td>\n",
       "      <td>0.054786</td>\n",
       "      <td>0.155356</td>\n",
       "      <td>-0.100128</td>\n",
       "      <td>-0.298510</td>\n",
       "      <td>0.738090</td>\n",
       "      <td>0.396643</td>\n",
       "      <td>0.293322</td>\n",
       "    </tr>\n",
       "  </tbody>\n",
       "</table>\n",
       "<p>93 rows × 18 columns</p>\n",
       "</div>"
      ],
      "text/plain": [
       "    Min.Price     Price  Max.Price  MPG.city  MPG.highway  EngineSize  \\\n",
       "0   -0.485787 -0.375720  -0.282465  0.471312     0.360925   -0.841022   \n",
       "1    1.388017  1.497844   1.531409 -0.781032    -0.770514    0.515869   \n",
       "2    1.008658  0.998227   0.948052 -0.423219    -0.581941    0.128186   \n",
       "3    1.571949  1.893374   2.069191 -0.602126    -0.581941    0.128186   \n",
       "4    0.755752  1.091905   1.303535 -0.065407     0.172352    0.806631   \n",
       "..        ...       ...        ...       ...          ...         ...   \n",
       "88  -0.060445  0.019810   0.073018 -0.959938    -1.524806   -0.162577   \n",
       "89   0.054512  0.051036   0.045673 -0.244313     0.172352   -0.647181   \n",
       "90   0.663786  0.394523   0.164167 -0.781032    -0.770514    0.128186   \n",
       "91   0.537333  0.332071   0.145937 -0.244313    -0.204794   -0.356418   \n",
       "92   0.882205  0.748418   0.601684 -0.423219    -0.204794   -0.259498   \n",
       "\n",
       "    Horsepower       RPM  Rev.per.mile  Fuel.tank.capacity  Passengers  \\\n",
       "0    -0.073484  1.717489      1.129530           -1.062184   -0.083243   \n",
       "1     1.078322  0.369586      0.005661            0.409445   -0.083243   \n",
       "2     0.540813  0.369586     -0.105713            0.072197   -0.083243   \n",
       "3     0.540813  0.369586      0.410659            1.359872    0.884457   \n",
       "4     1.231897  0.706562      0.430909            1.359872   -1.050944   \n",
       "..         ...       ...           ...                 ...         ...   \n",
       "88   -0.668585 -1.315292      1.180155            1.359872    1.852158   \n",
       "89   -0.188665  0.875050      0.714407            0.562740   -0.083243   \n",
       "90    0.655993  0.875050      0.106911            0.562740   -1.050944   \n",
       "91   -0.572601  0.201098     -0.237337           -0.265051   -0.083243   \n",
       "92    0.464025  1.549001     -0.044963            0.808011   -0.083243   \n",
       "\n",
       "      Length  Wheelbase     Width  Turn.circle  Rear.seat.room  Luggage.room  \\\n",
       "0  -0.427186  -0.286932 -0.366184    -0.610436       -0.452197     -1.033015   \n",
       "1   0.812171   1.629649  0.431983    -0.298510        0.738090      0.396643   \n",
       "2  -0.220626  -0.286932 -0.632239    -0.610436        0.057926      0.039228   \n",
       "3   0.674465   0.302785  0.165927    -0.610436        1.078172      1.111472   \n",
       "4   0.192493   0.745073 -0.100128     0.013416       -0.282156     -0.318186   \n",
       "..       ...        ...       ...          ...             ...           ...   \n",
       "88  0.261346   1.629649  0.698038    -0.298510        2.098419      0.000000   \n",
       "89 -0.220626  -0.139503 -0.632239    -1.234288        1.248213      0.039228   \n",
       "90 -1.666543  -1.024079 -0.898295    -0.922362       -0.622238      0.396643   \n",
       "91  0.467905   0.007926 -0.632239    -0.610436        0.568049      0.039228   \n",
       "92  0.054786   0.155356 -0.100128    -0.298510        0.738090      0.396643   \n",
       "\n",
       "      Weight  \n",
       "0  -0.627055  \n",
       "1   0.830208  \n",
       "2   0.514894  \n",
       "3   0.566026  \n",
       "4   0.966560  \n",
       "..       ...  \n",
       "88  1.511968  \n",
       "89 -0.149822  \n",
       "90 -0.448092  \n",
       "91 -0.149822  \n",
       "92  0.293322  \n",
       "\n",
       "[93 rows x 18 columns]"
      ]
     },
     "execution_count": 7,
     "metadata": {},
     "output_type": "execute_result"
    }
   ],
   "source": [
    "from sklearn.preprocessing import StandardScaler\n",
    "ss=StandardScaler()\n",
    "Xcon=pd.DataFrame(ss.fit_transform(A[con]), columns=con)\n",
    "Xcon"
   ]
  },
  {
   "cell_type": "code",
   "execution_count": 8,
   "id": "d865af45",
   "metadata": {},
   "outputs": [
    {
     "data": {
      "text/plain": [
       "[16, 38, 41, 47, 58, 59]"
      ]
     },
     "execution_count": 8,
     "metadata": {},
     "output_type": "execute_result"
    }
   ],
   "source": [
    "out=[]\n",
    "for i in Xcon:\n",
    "   out.extend(list(Xcon[(Xcon[i]>3) | (Xcon[i]<-3)].index))\n",
    "out\n",
    "import numpy as np\n",
    "outliers=list(np.unique(out))\n",
    "outliers"
   ]
  },
  {
   "cell_type": "code",
   "execution_count": 9,
   "id": "79689d3d",
   "metadata": {},
   "outputs": [
    {
     "data": {
      "text/plain": [
       "(87, 25)"
      ]
     },
     "execution_count": 9,
     "metadata": {},
     "output_type": "execute_result"
    }
   ],
   "source": [
    "A=A.drop(index=outliers , axis=0)\n",
    "A.shape"
   ]
  },
  {
   "cell_type": "code",
   "execution_count": 10,
   "id": "78353191",
   "metadata": {},
   "outputs": [],
   "source": [
    "A.index=range(0,87)"
   ]
  },
  {
   "cell_type": "code",
   "execution_count": 11,
   "id": "fad93b64",
   "metadata": {},
   "outputs": [
    {
     "data": {
      "image/png": "[encoded data removed]",
      "text/plain": [
       "<Figure size 1440x2160 with 7 Axes>"
      ]
     },
     "metadata": {
      "needs_background": "light"
     },
     "output_type": "display_data"
    }
   ],
   "source": [
    "import matplotlib.pyplot as plt\n",
    "import seaborn as sb\n",
    "x=1\n",
    "plt.figure(figsize=(20,30))\n",
    "for i in cat:\n",
    "    plt.subplot(3,3,x)\n",
    "    sb.boxplot(A[i],A[\"Weight\"])\n",
    "    x=x+1\n"
   ]
  },
  {
   "cell_type": "code",
   "execution_count": 12,
   "id": "22199718",
   "metadata": {},
   "outputs": [
    {
     "data": {
      "text/plain": [
       "Min.Price             0.677071\n",
       "Price                 0.689606\n",
       "Max.Price             0.672457\n",
       "MPG.city             -0.872984\n",
       "MPG.highway          -0.821412\n",
       "EngineSize            0.825492\n",
       "Horsepower            0.716912\n",
       "RPM                  -0.424413\n",
       "Rev.per.mile         -0.710466\n",
       "Fuel.tank.capacity    0.891269\n",
       "Passengers            0.524746\n",
       "Length                0.789172\n",
       "Wheelbase             0.868891\n",
       "Width                 0.873592\n",
       "Turn.circle           0.773158\n",
       "Rear.seat.room        0.526896\n",
       "Luggage.room          0.561826\n",
       "Weight                1.000000\n",
       "Name: Weight, dtype: float64"
      ]
     },
     "execution_count": 12,
     "metadata": {},
     "output_type": "execute_result"
    }
   ],
   "source": [
    "q=A.corr()[\"Weight\"]\n",
    "q"
   ]
  },
  {
   "cell_type": "code",
   "execution_count": 13,
   "id": "5b3684a3",
   "metadata": {},
   "outputs": [
    {
     "data": {
      "text/plain": [
       "['MPG.city',\n",
       " 'MPG.highway',\n",
       " 'EngineSize',\n",
       " 'Horsepower',\n",
       " 'Rev.per.mile',\n",
       " 'Fuel.tank.capacity',\n",
       " 'Length',\n",
       " 'Wheelbase',\n",
       " 'Width',\n",
       " 'Turn.circle']"
      ]
     },
     "execution_count": 13,
     "metadata": {},
     "output_type": "execute_result"
    }
   ],
   "source": [
    "q1 = list(q[(q>0.7) & (q!=1) | (q<-0.7)].index)\n",
    "q1"
   ]
  },
  {
   "cell_type": "code",
   "execution_count": 14,
   "id": "280ac0e2",
   "metadata": {},
   "outputs": [
    {
     "data": {
      "text/plain": [
       "['Manufacturer',\n",
       " 'Type',\n",
       " 'AirBags',\n",
       " 'DriveTrain',\n",
       " 'Cylinders',\n",
       " 'Man.trans.avail']"
      ]
     },
     "execution_count": 14,
     "metadata": {},
     "output_type": "execute_result"
    }
   ],
   "source": [
    "cat.remove(\"Origin\")\n",
    "cat"
   ]
  },
  {
   "cell_type": "code",
   "execution_count": 15,
   "id": "bda1a9c8",
   "metadata": {},
   "outputs": [
    {
     "data": {
      "text/plain": [
       "['MPG.city',\n",
       " 'MPG.highway',\n",
       " 'EngineSize',\n",
       " 'Horsepower',\n",
       " 'Rev.per.mile',\n",
       " 'Fuel.tank.capacity',\n",
       " 'Length',\n",
       " 'Wheelbase',\n",
       " 'Width',\n",
       " 'Turn.circle',\n",
       " 'Manufacturer',\n",
       " 'Type',\n",
       " 'AirBags',\n",
       " 'DriveTrain',\n",
       " 'Cylinders',\n",
       " 'Man.trans.avail']"
      ]
     },
     "execution_count": 15,
     "metadata": {},
     "output_type": "execute_result"
    }
   ],
   "source": [
    "Xcols= q1 + cat\n",
    "Xcols"
   ]
  },
  {
   "cell_type": "markdown",
   "id": "24a16f41",
   "metadata": {},
   "source": [
    "# Define X and Y"
   ]
  },
  {
   "cell_type": "code",
   "execution_count": 16,
   "id": "579f7a2e",
   "metadata": {},
   "outputs": [],
   "source": [
    "Y=A[\"Weight\"]\n",
    "X=A[Xcols]"
   ]
  },
  {
   "cell_type": "code",
   "execution_count": 22,
   "id": "2a35efad",
   "metadata": {},
   "outputs": [],
   "source": [
    "pd.set_option(\"display.max_columns\" , 70)"
   ]
  },
  {
   "cell_type": "code",
   "execution_count": 26,
   "id": "8d4ce4ad",
   "metadata": {},
   "outputs": [
    {
     "data": {
      "text/plain": [
       "(87, 61)"
      ]
     },
     "execution_count": 26,
     "metadata": {},
     "output_type": "execute_result"
    }
   ],
   "source": [
    "Xnew.shape"
   ]
  },
  {
   "cell_type": "markdown",
   "id": "6e98ca55",
   "metadata": {},
   "source": [
    "# Adding columns as per forward selection"
   ]
  },
  {
   "cell_type": "code",
   "execution_count": 30,
   "id": "3bb4649e",
   "metadata": {},
   "outputs": [
    {
     "data": {
      "text/html": [
       "<div>\n",
       "<style scoped>\n",
       "    .dataframe tbody tr th:only-of-type {\n",
       "        vertical-align: middle;\n",
       "    }\n",
       "\n",
       "    .dataframe tbody tr th {\n",
       "        vertical-align: top;\n",
       "    }\n",
       "\n",
       "    .dataframe thead th {\n",
       "        text-align: right;\n",
       "    }\n",
       "</style>\n",
       "<table border=\"1\" class=\"dataframe\">\n",
       "  <thead>\n",
       "    <tr style=\"text-align: right;\">\n",
       "      <th></th>\n",
       "      <th>Weight</th>\n",
       "    </tr>\n",
       "  </thead>\n",
       "  <tbody>\n",
       "    <tr>\n",
       "      <th>36</th>\n",
       "      <td>3950</td>\n",
       "    </tr>\n",
       "    <tr>\n",
       "      <th>47</th>\n",
       "      <td>4055</td>\n",
       "    </tr>\n",
       "    <tr>\n",
       "      <th>51</th>\n",
       "      <td>3735</td>\n",
       "    </tr>\n",
       "    <tr>\n",
       "      <th>22</th>\n",
       "      <td>2670</td>\n",
       "    </tr>\n",
       "    <tr>\n",
       "      <th>3</th>\n",
       "      <td>3405</td>\n",
       "    </tr>\n",
       "    <tr>\n",
       "      <th>24</th>\n",
       "      <td>3705</td>\n",
       "    </tr>\n",
       "    <tr>\n",
       "      <th>10</th>\n",
       "      <td>3935</td>\n",
       "    </tr>\n",
       "    <tr>\n",
       "      <th>23</th>\n",
       "      <td>2970</td>\n",
       "    </tr>\n",
       "    <tr>\n",
       "      <th>13</th>\n",
       "      <td>3240</td>\n",
       "    </tr>\n",
       "    <tr>\n",
       "      <th>40</th>\n",
       "      <td>2345</td>\n",
       "    </tr>\n",
       "    <tr>\n",
       "      <th>19</th>\n",
       "      <td>3085</td>\n",
       "    </tr>\n",
       "    <tr>\n",
       "      <th>17</th>\n",
       "      <td>3380</td>\n",
       "    </tr>\n",
       "    <tr>\n",
       "      <th>31</th>\n",
       "      <td>2690</td>\n",
       "    </tr>\n",
       "    <tr>\n",
       "      <th>57</th>\n",
       "      <td>2545</td>\n",
       "    </tr>\n",
       "    <tr>\n",
       "      <th>67</th>\n",
       "      <td>2575</td>\n",
       "    </tr>\n",
       "    <tr>\n",
       "      <th>42</th>\n",
       "      <td>2285</td>\n",
       "    </tr>\n",
       "    <tr>\n",
       "      <th>54</th>\n",
       "      <td>3610</td>\n",
       "    </tr>\n",
       "    <tr>\n",
       "      <th>29</th>\n",
       "      <td>1845</td>\n",
       "    </tr>\n",
       "  </tbody>\n",
       "</table>\n",
       "</div>"
      ],
      "text/plain": [
       "    Weight\n",
       "36    3950\n",
       "47    4055\n",
       "51    3735\n",
       "22    2670\n",
       "3     3405\n",
       "24    3705\n",
       "10    3935\n",
       "23    2970\n",
       "13    3240\n",
       "40    2345\n",
       "19    3085\n",
       "17    3380\n",
       "31    2690\n",
       "57    2545\n",
       "67    2575\n",
       "42    2285\n",
       "54    3610\n",
       "29    1845"
      ]
     },
     "execution_count": 30,
     "metadata": {},
     "output_type": "execute_result"
    }
   ],
   "source": [
    "Y=A[[\"Weight\"]]\n",
    "X=A[[\"Fuel.tank.capacity\"]]\n",
    "from sklearn .model_selection import train_test_split\n",
    "xtrain,xtest,ytrain,ytest=train_test_split(X,Y,test_size=0.2, random_state=21)\n",
    "ytest"
   ]
  },
  {
   "cell_type": "markdown",
   "id": "aca9092e",
   "metadata": {},
   "source": [
    "# Model1"
   ]
  },
  {
   "cell_type": "code",
   "execution_count": 34,
   "id": "66f7b06b",
   "metadata": {},
   "outputs": [
    {
     "data": {
      "text/plain": [
       "(0.865082348915397, 213.01226663902443, 199.60236598278718)"
      ]
     },
     "execution_count": 34,
     "metadata": {},
     "output_type": "execute_result"
    }
   ],
   "source": [
    "from sklearn.linear_model import LinearRegression\n",
    "lm=LinearRegression()\n",
    "model=lm.fit(xtrain , ytrain)\n",
    "tr_pred=model.predict(xtrain)\n",
    "ts_pred=model.predict(xtest)\n",
    "\n",
    "from sklearn.metrics import mean_absolute_error, explained_variance_score\n",
    "adj=explained_variance_score(ytest,ts_pred)\n",
    "bias=mean_absolute_error(ytrain,tr_pred)\n",
    "var=mean_absolute_error(ytest,ts_pred)\n",
    "adj , bias , var"
   ]
  },
  {
   "cell_type": "markdown",
   "id": "06f0a6f4",
   "metadata": {},
   "source": [
    "# Model2"
   ]
  },
  {
   "cell_type": "code",
   "execution_count": 39,
   "id": "0efac28b",
   "metadata": {},
   "outputs": [
    {
     "data": {
      "text/plain": [
       "(87, 18)"
      ]
     },
     "execution_count": 39,
     "metadata": {},
     "output_type": "execute_result"
    }
   ],
   "source": [
    "Xcon=Xcon.drop(index=outliers , axis=0)\n",
    "Xcon.shape"
   ]
  },
  {
   "cell_type": "code",
   "execution_count": 44,
   "id": "7b1839ee",
   "metadata": {},
   "outputs": [
    {
     "data": {
      "text/plain": [
       "(0.9417341538580248, 167.4956410143171, 133.06260383628535)"
      ]
     },
     "execution_count": 44,
     "metadata": {},
     "output_type": "execute_result"
    }
   ],
   "source": [
    "Y=A[[\"Weight\"]]\n",
    "X=Xcon[[\"Fuel.tank.capacity\" , \"Width\"]]\n",
    "\n",
    "xtrain,xtest,ytrain,ytest=train_test_split(X,Y,test_size=0.2 ,random_state=21)\n",
    "model=lm.fit(xtrain,ytrain)\n",
    "tr_pred=model.predict(xtrain)\n",
    "ts_pred=model.predict(xtest)\n",
    "\n",
    "\n",
    "adj=explained_variance_score(ytest,ts_pred)\n",
    "bias=mean_absolute_error(ytrain,tr_pred)\n",
    "var=mean_absolute_error(ytest,ts_pred)\n",
    "adj, bias, var"
   ]
  },
  {
   "cell_type": "markdown",
   "id": "169a3574",
   "metadata": {},
   "source": [
    "# Model3"
   ]
  },
  {
   "cell_type": "code",
   "execution_count": 47,
   "id": "7b58bd09",
   "metadata": {},
   "outputs": [
    {
     "data": {
      "text/plain": [
       "(0.9316958984317716, 166.12340466599113, 137.12490950803618)"
      ]
     },
     "execution_count": 47,
     "metadata": {},
     "output_type": "execute_result"
    }
   ],
   "source": [
    "Y=A[[\"Weight\"]]\n",
    "X=Xcon[[\"Fuel.tank.capacity\",\"Width\",\"RPM\"]]\n",
    "\n",
    "xtrain,xtest,ytrain,ytest=train_test_split(X,Y,test_size=0.2 , random_state=21)\n",
    "model=lm.fit(xtrain,ytrain)\n",
    "\n",
    "tr_pred=model.predict(xtrain)\n",
    "ts_pred=model.predict(xtest)\n",
    "\n",
    "adj=explained_variance_score(ytest,ts_pred)\n",
    "bias=mean_absolute_error(ytrain,tr_pred)\n",
    "var=mean_absolute_error(ytest,ts_pred)\n",
    "adj,bias,var\n"
   ]
  },
  {
   "cell_type": "markdown",
   "id": "6918940a",
   "metadata": {},
   "source": [
    "# Model4"
   ]
  },
  {
   "cell_type": "code",
   "execution_count": 51,
   "id": "a782afe1",
   "metadata": {},
   "outputs": [
    {
     "data": {
      "text/plain": [
       "(0.9404017961168187, 140.69126681729688, 131.53149815757286)"
      ]
     },
     "execution_count": 51,
     "metadata": {},
     "output_type": "execute_result"
    }
   ],
   "source": [
    "Y=A[[\"Weight\"]]\n",
    "X=A[[\"Fuel.tank.capacity\",\"Width\",\"Type\"]]\n",
    "\n",
    "cat=[]\n",
    "con=[]\n",
    "for i in X.columns:\n",
    "    if X[i].dtypes==\"object\":\n",
    "        cat.append(i)\n",
    "    else:\n",
    "        con.append(i)\n",
    "\n",
    "xcat=pd.get_dummies(X[cat])\n",
    "xcon=pd.DataFrame(ss.fit_transform(X[con]) , columns=con)\n",
    "Xnew=xcat.join(xcon)\n",
    "Xnew\n",
    "\n",
    "xtrain,xtest,ytrain,ytest=train_test_split(Xnew,Y,test_size=0.2 , random_state=21)\n",
    "model=lm.fit(xtrain,ytrain)\n",
    "\n",
    "tr_pred=model.predict(xtrain)\n",
    "ts_pred=model.predict(xtest)\n",
    "\n",
    "adj= explained_variance_score(ytest,ts_pred)\n",
    "bias=mean_absolute_error(ytrain,tr_pred)\n",
    "var=mean_absolute_error(ytest,ts_pred)\n",
    "adj,bias,var"
   ]
  },
  {
   "cell_type": "markdown",
   "id": "6bb93f24",
   "metadata": {},
   "source": [
    "# Model5"
   ]
  },
  {
   "cell_type": "code",
   "execution_count": 57,
   "id": "38a29580",
   "metadata": {},
   "outputs": [
    {
     "data": {
      "text/plain": [
       "(0.9394206752374241, 126.14565264280247, 129.8180409464301)"
      ]
     },
     "execution_count": 57,
     "metadata": {},
     "output_type": "execute_result"
    }
   ],
   "source": [
    "Y=A[[\"Weight\"]]\n",
    "X=A[[\"Fuel.tank.capacity\",\"Width\",\"Type\" , \"MPG.city\"]]\n",
    "\n",
    "cat=[]\n",
    "con=[]\n",
    "\n",
    "for i in X.columns:\n",
    "    if X[i].dtypes==\"object\":\n",
    "        cat.append(i)\n",
    "    else:\n",
    "        con.append(i)\n",
    "\n",
    "xcat=pd.get_dummies(xcat)\n",
    "xcon=pd.DataFrame(ss.fit_transform(X[con]) , columns = con)\n",
    "Xnew=xcat.join(xcon)\n",
    "\n",
    "xtrain,xtest,ytrain,ytest=train_test_split(Xnew,Y,test_size=0.2 , random_state=21)\n",
    "\n",
    "model=lm.fit(xtrain,ytrain)\n",
    "tr_pred=model.predict(xtrain)\n",
    "ts_pred=model.predict(xtest)\n",
    "\n",
    "adj=explained_variance_score(ytest,ts_pred)\n",
    "bias=mean_absolute_error(ytrain,tr_pred)\n",
    "var=mean_absolute_error(ytest,ts_pred)\n",
    "\n",
    "adj,bias,var"
   ]
  },
  {
   "cell_type": "markdown",
   "id": "e593ff6b",
   "metadata": {},
   "source": [
    "# Model6"
   ]
  },
  {
   "cell_type": "code",
   "execution_count": 65,
   "id": "e1bdba90",
   "metadata": {},
   "outputs": [
    {
     "data": {
      "text/plain": [
       "(0.9369917848239064, 145.46378149536417, 129.52600839312947)"
      ]
     },
     "execution_count": 65,
     "metadata": {},
     "output_type": "execute_result"
    }
   ],
   "source": [
    "Y=A[[\"Weight\"]]\n",
    "X=A[[\"Fuel.tank.capacity\",\"Width\",\"MPG.highway\"]]\n",
    "\n",
    "X=pd.DataFrame(ss.fit_transform(X), columns =X.columns )\n",
    "\n",
    "\n",
    "xtrain,xtest,ytrain,ytest=train_test_split(X,Y,test_size=0.2,random_state=21)\n",
    "\n",
    "model=lm.fit(xtrain,ytrain)\n",
    "tr_pred=model.predict(xtrain)\n",
    "ts_pred=model.predict(xtest)\n",
    "\n",
    "adj=explained_variance_score(ytest,ts_pred)\n",
    "bias=mean_absolute_error(ytrain,tr_pred)\n",
    "var = mean_absolute_error(ytest,ts_pred)\n",
    "adj,bias,var"
   ]
  },
  {
   "cell_type": "markdown",
   "id": "00266c7d",
   "metadata": {},
   "source": [
    "# Model7"
   ]
  },
  {
   "cell_type": "code",
   "execution_count": 67,
   "id": "5fa4b8d8",
   "metadata": {},
   "outputs": [
    {
     "data": {
      "text/plain": [
       "(0.9315044277391471, 124.82166309973539, 126.62367270829883)"
      ]
     },
     "execution_count": 67,
     "metadata": {},
     "output_type": "execute_result"
    }
   ],
   "source": [
    "Y=A[[\"Weight\"]]\n",
    "X=A[[\"Fuel.tank.capacity\",\"Width\",\"Type\",\"MPG.highway\"]]\n",
    "\n",
    "cat=[]\n",
    "con=[]\n",
    "for i in X.columns:\n",
    "    if X[i].dtypes==\"object\":\n",
    "        cat.append(i)\n",
    "    else:\n",
    "        con.append(i)\n",
    "        \n",
    "xcon=pd.DataFrame(ss.fit_transform(X[con]) , columns=con)\n",
    "xcat=pd.get_dummies(X[cat])\n",
    "Xnew=xcat.join(xcon)\n",
    "Xnew.head()\n",
    "\n",
    "xtrain,xtest,ytrain,ytest=train_test_split(Xnew,Y,test_size=0.2, random_state=21)\n",
    "\n",
    "model=lm.fit(xtrain,ytrain)\n",
    "tr_pred=model.predict(xtrain)\n",
    "ts_pred=model.predict(xtest)\n",
    "\n",
    "adj=explained_variance_score(ytest,ts_pred)\n",
    "bias=mean_absolute_error(ytrain,tr_pred)\n",
    "var=mean_absolute_error(ytest,ts_pred)\n",
    "\n",
    "adj, bias, var"
   ]
  },
  {
   "cell_type": "markdown",
   "id": "8116d3cb",
   "metadata": {},
   "source": [
    "# Model8"
   ]
  },
  {
   "cell_type": "code",
   "execution_count": 71,
   "id": "73c25ba9",
   "metadata": {},
   "outputs": [
    {
     "data": {
      "text/plain": [
       "(0.9700251382342047, 145.68259022730646, 104.11160734516642)"
      ]
     },
     "execution_count": 71,
     "metadata": {},
     "output_type": "execute_result"
    }
   ],
   "source": [
    "Y=A[[\"Weight\"]]\n",
    "X=A[[\"Fuel.tank.capacity\",\"Width\",\"Wheelbase\"]]\n",
    "\n",
    "X=pd.DataFrame(ss.fit_transform(X), columns=X.columns)\n",
    "\n",
    "xtrain,xtest,ytrain,ytest=train_test_split(X,Y,test_size=0.2 , random_state=21)\n",
    "\n",
    "model=lm.fit(xtrain,ytrain)\n",
    "\n",
    "tr_pred=model.predict(xtrain)\n",
    "ts_pred=model.predict(xtest)\n",
    "\n",
    "adj=explained_variance_score(ytest,ts_pred)\n",
    "bias=mean_absolute_error(ytrain,tr_pred)\n",
    "var=mean_absolute_error(ytest,ts_pred)\n",
    "\n",
    "adj,bias,var\n"
   ]
  },
  {
   "cell_type": "markdown",
   "id": "843cf267",
   "metadata": {},
   "source": [
    "# Model9"
   ]
  },
  {
   "cell_type": "code",
   "execution_count": 73,
   "id": "1b5723ff",
   "metadata": {},
   "outputs": [
    {
     "data": {
      "text/plain": [
       "(0.966762192127689, 139.59323082246956, 100.37972544936399)"
      ]
     },
     "execution_count": 73,
     "metadata": {},
     "output_type": "execute_result"
    }
   ],
   "source": [
    "Y=A[[\"Weight\"]]\n",
    "X=A[[\"Fuel.tank.capacity\",\"Width\",\"Wheelbase\" , \"EngineSize\"]]\n",
    "\n",
    "X=pd.DataFrame(ss.fit_transform(X) , columns=X.columns)\n",
    "\n",
    "xtrain,xtest,ytrain,ytest=train_test_split(X,Y,test_size=0.2 ,random_state=21)\n",
    "\n",
    "model=lm.fit(xtrain,ytrain)\n",
    "\n",
    "tr_pred=model.predict(xtrain)\n",
    "ts_pred=model.predict(xtest)\n",
    "\n",
    "adj=explained_variance_score(ytest,ts_pred)\n",
    "bias=mean_absolute_error(ytrain,tr_pred)\n",
    "var=mean_absolute_error(ytest,ts_pred)\n",
    "\n",
    "adj,bias,var"
   ]
  },
  {
   "cell_type": "markdown",
   "id": "e8afd0d7",
   "metadata": {},
   "source": [
    "# Model10"
   ]
  },
  {
   "cell_type": "code",
   "execution_count": 78,
   "id": "594713ce",
   "metadata": {},
   "outputs": [
    {
     "data": {
      "text/plain": [
       "(0.966762192127689, 139.59323082246956, 100.37972544936399)"
      ]
     },
     "execution_count": 78,
     "metadata": {},
     "output_type": "execute_result"
    }
   ],
   "source": [
    "Y=A[[\"Weight\"]]\n",
    "X=A[[\"Fuel.tank.capacity\",\"Width\", \"Wheelbase\", \"EngineSize\"]]\n",
    "\n",
    "X=pd.DataFrame(ss.fit_transform(X) , columns=X.columns)\n",
    "\n",
    "xtrain,xtest,ytrain,ytest=train_test_split(X,Y,test_size=0.2 ,random_state=21)\n",
    "\n",
    "model=lm.fit(xtrain,ytrain)\n",
    "\n",
    "tr_pred=model.predict(xtrain)\n",
    "ts_pred=model.predict(xtest)\n",
    "\n",
    "adj=explained_variance_score(ytest,ts_pred)\n",
    "bias=mean_absolute_error(ytrain,tr_pred)\n",
    "var=mean_absolute_error(ytest,ts_pred)\n",
    "\n",
    "adj,bias,var"
   ]
  },
  {
   "cell_type": "markdown",
   "id": "daac43b4",
   "metadata": {},
   "source": [
    "# Model11"
   ]
  },
  {
   "cell_type": "code",
   "execution_count": 79,
   "id": "3bf36e82",
   "metadata": {},
   "outputs": [
    {
     "data": {
      "text/plain": [
       "(0.9700512542445877, 145.66142501341028, 104.83915417760845)"
      ]
     },
     "execution_count": 79,
     "metadata": {},
     "output_type": "execute_result"
    }
   ],
   "source": [
    "Y=A[[\"Weight\"]]\n",
    "X=A[[\"Fuel.tank.capacity\",\"Width\", \"Wheelbase\", \"Length\"  ]]\n",
    "\n",
    "X=pd.DataFrame(ss.fit_transform(X) , columns=X.columns)\n",
    "\n",
    "xtrain,xtest,ytrain,ytest=train_test_split(X,Y,test_size=0.2 ,random_state=21)\n",
    "\n",
    "model=lm.fit(xtrain,ytrain)\n",
    "\n",
    "tr_pred=model.predict(xtrain)\n",
    "ts_pred=model.predict(xtest)\n",
    "\n",
    "adj=explained_variance_score(ytest,ts_pred)\n",
    "bias=mean_absolute_error(ytrain,tr_pred)\n",
    "var=mean_absolute_error(ytest,ts_pred)\n",
    "\n",
    "adj,bias,var"
   ]
  },
  {
   "cell_type": "markdown",
   "id": "35095514",
   "metadata": {},
   "source": [
    "# Model12"
   ]
  },
  {
   "cell_type": "code",
   "execution_count": 80,
   "id": "25415e34",
   "metadata": {},
   "outputs": [
    {
     "data": {
      "text/plain": [
       "(0.9744733785974582, 143.23688937801583, 92.55089266735915)"
      ]
     },
     "execution_count": 80,
     "metadata": {},
     "output_type": "execute_result"
    }
   ],
   "source": [
    "Y=A[[\"Weight\"]]\n",
    "X=A[[\"Fuel.tank.capacity\",\"Width\", \"Wheelbase\", \"Length\" , \"Rev.per.mile\"]]\n",
    "\n",
    "X=pd.DataFrame(ss.fit_transform(X) , columns=X.columns)\n",
    "\n",
    "xtrain,xtest,ytrain,ytest=train_test_split(X,Y,test_size=0.2 ,random_state=21)\n",
    "\n",
    "model=lm.fit(xtrain,ytrain)\n",
    "\n",
    "tr_pred=model.predict(xtrain)\n",
    "ts_pred=model.predict(xtest)\n",
    "\n",
    "adj=explained_variance_score(ytest,ts_pred)\n",
    "bias=mean_absolute_error(ytrain,tr_pred)\n",
    "var=mean_absolute_error(ytest,ts_pred)\n",
    "\n",
    "adj,bias,var"
   ]
  },
  {
   "cell_type": "markdown",
   "id": "72cb9b5f",
   "metadata": {},
   "source": [
    "# Model14"
   ]
  },
  {
   "cell_type": "code",
   "execution_count": 81,
   "id": "63b48652",
   "metadata": {},
   "outputs": [
    {
     "data": {
      "text/plain": [
       "(0.9727997540288978, 142.08827274492765, 95.41233956420155)"
      ]
     },
     "execution_count": 81,
     "metadata": {},
     "output_type": "execute_result"
    }
   ],
   "source": [
    "Y=A[[\"Weight\"]]\n",
    "X=A[[\"Fuel.tank.capacity\",\"Width\", \"Wheelbase\", \"Length\" , \"Rev.per.mile\" , \"Turn.circle\"]]\n",
    "\n",
    "X=pd.DataFrame(ss.fit_transform(X) , columns=X.columns)\n",
    "\n",
    "xtrain,xtest,ytrain,ytest=train_test_split(X,Y,test_size=0.2 ,random_state=21)\n",
    "\n",
    "model=lm.fit(xtrain,ytrain)\n",
    "\n",
    "tr_pred=model.predict(xtrain)\n",
    "ts_pred=model.predict(xtest)\n",
    "\n",
    "adj=explained_variance_score(ytest,ts_pred)\n",
    "bias=mean_absolute_error(ytrain,tr_pred)\n",
    "var=mean_absolute_error(ytest,ts_pred)\n",
    "\n",
    "adj,bias,var"
   ]
  },
  {
   "cell_type": "markdown",
   "id": "244dffe3",
   "metadata": {},
   "source": [
    "# Model15"
   ]
  },
  {
   "cell_type": "code",
   "execution_count": 82,
   "id": "ad6483b0",
   "metadata": {},
   "outputs": [
    {
     "data": {
      "text/plain": [
       "(0.9705744598806882, 131.08733209475636, 101.32494279418455)"
      ]
     },
     "execution_count": 82,
     "metadata": {},
     "output_type": "execute_result"
    }
   ],
   "source": [
    "Y=A[[\"Weight\"]]\n",
    "X=A[[\"Fuel.tank.capacity\",\"Width\", \"Wheelbase\", \"Length\" , \"Rev.per.mile\" , \"Horsepower\"]]\n",
    "\n",
    "X=pd.DataFrame(ss.fit_transform(X) , columns=X.columns)\n",
    "\n",
    "xtrain,xtest,ytrain,ytest=train_test_split(X,Y,test_size=0.2 ,random_state=21)\n",
    "\n",
    "model=lm.fit(xtrain,ytrain)\n",
    "\n",
    "tr_pred=model.predict(xtrain)\n",
    "ts_pred=model.predict(xtest)\n",
    "\n",
    "adj=explained_variance_score(ytest,ts_pred)\n",
    "bias=mean_absolute_error(ytrain,tr_pred)\n",
    "var=mean_absolute_error(ytest,ts_pred)\n",
    "\n",
    "adj,bias,var"
   ]
  },
  {
   "cell_type": "markdown",
   "id": "6b73d383",
   "metadata": {},
   "source": [
    "# Model16"
   ]
  },
  {
   "cell_type": "code",
   "execution_count": 85,
   "id": "d3b74ac8",
   "metadata": {},
   "outputs": [
    {
     "data": {
      "text/plain": [
       "(0.9587692843774195, 133.5965235942277, 117.2770074206226)"
      ]
     },
     "execution_count": 85,
     "metadata": {},
     "output_type": "execute_result"
    }
   ],
   "source": [
    "Y=A[[\"Weight\"]]\n",
    "X=A[[\"Fuel.tank.capacity\",\"Width\", \"Wheelbase\", \"Length\" , \"Rev.per.mile\" , \"Price\"]]\n",
    "\n",
    "X=pd.DataFrame(ss.fit_transform(X) , columns=X.columns)\n",
    "\n",
    "xtrain,xtest,ytrain,ytest=train_test_split(X,Y,test_size=0.2 ,random_state=21)\n",
    "\n",
    "model=lm.fit(xtrain,ytrain)\n",
    "\n",
    "tr_pred=model.predict(xtrain)\n",
    "ts_pred=model.predict(xtest)\n",
    "\n",
    "adj=explained_variance_score(ytest,ts_pred)\n",
    "bias=mean_absolute_error(ytrain,tr_pred)\n",
    "var=mean_absolute_error(ytest,ts_pred)\n",
    "\n",
    "adj,bias,var"
   ]
  },
  {
   "cell_type": "markdown",
   "id": "555f56f3",
   "metadata": {},
   "source": [
    "# Model17"
   ]
  },
  {
   "cell_type": "code",
   "execution_count": 86,
   "id": "caf1fa27",
   "metadata": {},
   "outputs": [
    {
     "data": {
      "text/plain": [
       "(0.9665023923638036, 137.56851954071138, 110.29557557938364)"
      ]
     },
     "execution_count": 86,
     "metadata": {},
     "output_type": "execute_result"
    }
   ],
   "source": [
    "Y=A[[\"Weight\"]]\n",
    "X=A[[\"Fuel.tank.capacity\",\"Width\", \"Wheelbase\", \"Length\" , \"Rev.per.mile\" , \"Min.Price\"]]\n",
    "\n",
    "X=pd.DataFrame(ss.fit_transform(X) , columns=X.columns)\n",
    "\n",
    "xtrain,xtest,ytrain,ytest=train_test_split(X,Y,test_size=0.2 ,random_state=21)\n",
    "\n",
    "model=lm.fit(xtrain,ytrain)\n",
    "\n",
    "tr_pred=model.predict(xtrain)\n",
    "ts_pred=model.predict(xtest)\n",
    "\n",
    "adj=explained_variance_score(ytest,ts_pred)\n",
    "bias=mean_absolute_error(ytrain,tr_pred)\n",
    "var=mean_absolute_error(ytest,ts_pred)\n",
    "\n",
    "adj,bias,var"
   ]
  },
  {
   "cell_type": "markdown",
   "id": "86c0cb1b",
   "metadata": {},
   "source": [
    "# Model18"
   ]
  },
  {
   "cell_type": "code",
   "execution_count": 87,
   "id": "eb596b71",
   "metadata": {},
   "outputs": [
    {
     "data": {
      "text/plain": [
       "(0.9565585362312, 131.65945601555038, 116.40045138477818)"
      ]
     },
     "execution_count": 87,
     "metadata": {},
     "output_type": "execute_result"
    }
   ],
   "source": [
    "Y=A[[\"Weight\"]]\n",
    "X=A[[\"Fuel.tank.capacity\",\"Width\", \"Wheelbase\", \"Length\" , \"Rev.per.mile\" , \"Max.Price\"]]\n",
    "\n",
    "X=pd.DataFrame(ss.fit_transform(X) , columns=X.columns)\n",
    "\n",
    "xtrain,xtest,ytrain,ytest=train_test_split(X,Y,test_size=0.2 ,random_state=21)\n",
    "\n",
    "model=lm.fit(xtrain,ytrain)\n",
    "\n",
    "tr_pred=model.predict(xtrain)\n",
    "ts_pred=model.predict(xtest)\n",
    "\n",
    "adj=explained_variance_score(ytest,ts_pred)\n",
    "bias=mean_absolute_error(ytrain,tr_pred)\n",
    "var=mean_absolute_error(ytest,ts_pred)\n",
    "\n",
    "adj,bias,var"
   ]
  },
  {
   "cell_type": "markdown",
   "id": "996ba4d6",
   "metadata": {},
   "source": [
    "# Model19"
   ]
  },
  {
   "cell_type": "code",
   "execution_count": 93,
   "id": "fcff3aea",
   "metadata": {},
   "outputs": [
    {
     "data": {
      "text/plain": [
       "(0.9785368901594502, 137.50898311652088, 90.80656881892132)"
      ]
     },
     "execution_count": 93,
     "metadata": {},
     "output_type": "execute_result"
    }
   ],
   "source": [
    "Y=A[[\"Weight\"]]\n",
    "X=A[[\"Fuel.tank.capacity\",\"Width\", \"Wheelbase\", \"Length\" , \"Rev.per.mile\" , \"Luggage.room\"]]\n",
    "\n",
    "X=pd.DataFrame(ss.fit_transform(X) , columns=X.columns)\n",
    "\n",
    "xtrain,xtest,ytrain,ytest=train_test_split(X,Y,test_size=0.2 ,random_state=21)\n",
    "\n",
    "model=lm.fit(xtrain,ytrain)\n",
    "\n",
    "tr_pred=model.predict(xtrain)\n",
    "ts_pred=model.predict(xtest)\n",
    "\n",
    "adj=explained_variance_score(ytest,ts_pred)\n",
    "bias=mean_absolute_error(ytrain,tr_pred)\n",
    "var=mean_absolute_error(ytest,ts_pred)\n",
    "\n",
    "adj,bias,var"
   ]
  },
  {
   "cell_type": "markdown",
   "id": "7f055c2e",
   "metadata": {},
   "source": [
    "# Model20"
   ]
  },
  {
   "cell_type": "code",
   "execution_count": 103,
   "id": "4d49388d",
   "metadata": {},
   "outputs": [
    {
     "data": {
      "text/plain": [
       "(0.9785013127909912, 137.5033666790695, 90.96590483753982)"
      ]
     },
     "execution_count": 103,
     "metadata": {},
     "output_type": "execute_result"
    }
   ],
   "source": [
    "Y=A[[\"Weight\"]]\n",
    "X=A[[\"Fuel.tank.capacity\",\"Width\", \"Wheelbase\", \"Length\" , \"Rev.per.mile\" , \"Rear.seat.room\", \"Luggage.room\"]]\n",
    "\n",
    "X=pd.DataFrame(ss.fit_transform(X) , columns=X.columns)\n",
    "\n",
    "xtrain,xtest,ytrain,ytest=train_test_split(X,Y,test_size=0.2 ,random_state=21)\n",
    "\n",
    "model=lm.fit(xtrain,ytrain)\n",
    "\n",
    "tr_pred=model.predict(xtrain)\n",
    "ts_pred=model.predict(xtest)\n",
    "\n",
    "adj=explained_variance_score(ytest,ts_pred)\n",
    "bias=mean_absolute_error(ytrain,tr_pred)\n",
    "var=mean_absolute_error(ytest,ts_pred)\n",
    "\n",
    "adj,bias,var"
   ]
  },
  {
   "cell_type": "markdown",
   "id": "10e143cc",
   "metadata": {},
   "source": [
    "# Model21"
   ]
  },
  {
   "cell_type": "code",
   "execution_count": 97,
   "id": "29eff32f",
   "metadata": {},
   "outputs": [
    {
     "data": {
      "text/plain": [
       "(0.9770513213552687, 138.23386585590637, 88.89408069081881)"
      ]
     },
     "execution_count": 97,
     "metadata": {},
     "output_type": "execute_result"
    }
   ],
   "source": [
    "Y=A[[\"Weight\"]]\n",
    "X=A[[\"Fuel.tank.capacity\",\"Width\", \"Wheelbase\", \"Length\" , \"Rev.per.mile\" , \"Luggage.room\", \"Passengers\"]]\n",
    "\n",
    "X=pd.DataFrame(ss.fit_transform(X) , columns=X.columns)\n",
    "\n",
    "xtrain,xtest,ytrain,ytest=train_test_split(X,Y,test_size=0.2 ,random_state=21)\n",
    "\n",
    "model=lm.fit(xtrain,ytrain)\n",
    "\n",
    "tr_pred=model.predict(xtrain)\n",
    "ts_pred=model.predict(xtest)\n",
    "\n",
    "adj=explained_variance_score(ytest,ts_pred)\n",
    "bias=mean_absolute_error(ytrain,tr_pred)\n",
    "var=mean_absolute_error(ytest,ts_pred)\n",
    "\n",
    "adj,bias,var"
   ]
  },
  {
   "cell_type": "markdown",
   "id": "db6e27dd",
   "metadata": {},
   "source": [
    "# Model22"
   ]
  },
  {
   "cell_type": "code",
   "execution_count": 101,
   "id": "a09ccdd8",
   "metadata": {},
   "outputs": [
    {
     "data": {
      "text/plain": [
       "(0.9748318933199434, 138.06048156716443, 91.82338775015128)"
      ]
     },
     "execution_count": 101,
     "metadata": {},
     "output_type": "execute_result"
    }
   ],
   "source": [
    "Y=A[[\"Weight\"]]\n",
    "X=A[[\"Fuel.tank.capacity\",\"Width\", \"Wheelbase\", \"Length\" , \"Rev.per.mile\" , \"Luggage.room\",  \"RPM\"]]\n",
    "\n",
    "X=pd.DataFrame(ss.fit_transform(X) , columns=X.columns)\n",
    "\n",
    "xtrain,xtest,ytrain,ytest=train_test_split(X,Y,test_size=0.2 ,random_state=21)\n",
    "\n",
    "model=lm.fit(xtrain,ytrain)\n",
    "\n",
    "tr_pred=model.predict(xtrain)\n",
    "ts_pred=model.predict(xtest)\n",
    "\n",
    "adj=explained_variance_score(ytest,ts_pred)\n",
    "bias=mean_absolute_error(ytrain,tr_pred)\n",
    "var=mean_absolute_error(ytest,ts_pred)\n",
    "\n",
    "adj,bias,var"
   ]
  },
  {
   "cell_type": "markdown",
   "id": "91b05f70",
   "metadata": {},
   "source": [
    "# Model23"
   ]
  },
  {
   "cell_type": "code",
   "execution_count": 105,
   "id": "714c0ada",
   "metadata": {},
   "outputs": [
    {
     "data": {
      "text/plain": [
       "(-2.255895289612921e+24, 85.4448318619659, 232181499601550.34)"
      ]
     },
     "execution_count": 105,
     "metadata": {},
     "output_type": "execute_result"
    }
   ],
   "source": [
    "Y=A[[\"Weight\"]]\n",
    "X=A[[\"Fuel.tank.capacity\",\"Width\", \"Wheelbase\", \"Length\" , \"Rev.per.mile\" , \"Luggage.room\",  \"Manufacturer\"]]\n",
    "\n",
    "cat=[]\n",
    "con=[]\n",
    "for i in X.columns:\n",
    "    if X[i].dtypes==\"object\":\n",
    "        cat.append(i)\n",
    "    else:\n",
    "        con.append(i)\n",
    "xcat=pd.get_dummies(X[cat])\n",
    "xcon=pd.DataFrame(ss.fit_transform(X[con]) , columns=con)\n",
    "\n",
    "Xnew=xcat.join(xcon)\n",
    "Xnew.head()\n",
    "\n",
    "xtrain,xtest,ytrain,ytest=train_test_split(Xnew,Y,test_size=0.2,random_state=21)\n",
    "model=lm.fit(xtrain,ytrain)\n",
    "\n",
    "tr_pred=model.predict(xtrain)\n",
    "ts_pred=model.predict(xtest)\n",
    "\n",
    "adj=explained_variance_score(ytest,ts_pred)\n",
    "bias=mean_absolute_error(ytrain,tr_pred)\n",
    "var=mean_absolute_error(ytest,ts_pred)\n",
    "\n",
    "adj,bias, var"
   ]
  },
  {
   "cell_type": "markdown",
   "id": "02b111af",
   "metadata": {},
   "source": [
    "# Model24"
   ]
  },
  {
   "cell_type": "code",
   "execution_count": 107,
   "id": "9bcc112d",
   "metadata": {},
   "outputs": [
    {
     "data": {
      "text/plain": [
       "(0.9778553648384984, 136.58662361344798, 88.68895448259912)"
      ]
     },
     "execution_count": 107,
     "metadata": {},
     "output_type": "execute_result"
    }
   ],
   "source": [
    "Y=A[[\"Weight\"]]\n",
    "X=A[[\"Fuel.tank.capacity\",\"Width\", \"Wheelbase\", \"Length\" , \"Rev.per.mile\" , \"Luggage.room\",  \"AirBags\"]]\n",
    "\n",
    "cat=[]\n",
    "con=[]\n",
    "for i in X.columns:\n",
    "    if X[i].dtypes==\"object\":\n",
    "        cat.append(i)\n",
    "    else:\n",
    "        con.append(i)\n",
    "xcat=pd.get_dummies(X[cat])\n",
    "xcon=pd.DataFrame(ss.fit_transform(X[con]) , columns=con)\n",
    "\n",
    "Xnew=xcat.join(xcon)\n",
    "Xnew.head()\n",
    "\n",
    "xtrain,xtest,ytrain,ytest=train_test_split(Xnew,Y,test_size=0.2,random_state=21)\n",
    "model=lm.fit(xtrain,ytrain)\n",
    "\n",
    "tr_pred=model.predict(xtrain)\n",
    "ts_pred=model.predict(xtest)\n",
    "\n",
    "adj=explained_variance_score(ytest,ts_pred)\n",
    "bias=mean_absolute_error(ytrain,tr_pred)\n",
    "var=mean_absolute_error(ytest,ts_pred)\n",
    "\n",
    "adj,bias, var"
   ]
  },
  {
   "cell_type": "markdown",
   "id": "276df1f9",
   "metadata": {},
   "source": [
    "# Model25"
   ]
  },
  {
   "cell_type": "code",
   "execution_count": 109,
   "id": "db56183a",
   "metadata": {},
   "outputs": [
    {
     "data": {
      "text/plain": [
       "(0.9751872349972129, 136.36091920368887, 103.33930204954305)"
      ]
     },
     "execution_count": 109,
     "metadata": {},
     "output_type": "execute_result"
    }
   ],
   "source": [
    "Y=A[[\"Weight\"]]\n",
    "X=A[[\"Fuel.tank.capacity\",\"Width\", \"Wheelbase\", \"Length\" , \"Rev.per.mile\" , \"Luggage.room\",  \"AirBags\" , \"DriveTrain\"]]\n",
    "\n",
    "cat=[]\n",
    "con=[]\n",
    "for i in X.columns:\n",
    "    if X[i].dtypes==\"object\":\n",
    "        cat.append(i)\n",
    "    else:\n",
    "        con.append(i)\n",
    "xcat=pd.get_dummies(X[cat])\n",
    "xcon=pd.DataFrame(ss.fit_transform(X[con]) , columns=con)\n",
    "\n",
    "Xnew=xcat.join(xcon)\n",
    "Xnew.head()\n",
    "\n",
    "xtrain,xtest,ytrain,ytest=train_test_split(Xnew,Y,test_size=0.2,random_state=21)\n",
    "model=lm.fit(xtrain,ytrain)\n",
    "\n",
    "tr_pred=model.predict(xtrain)\n",
    "ts_pred=model.predict(xtest)\n",
    "\n",
    "adj=explained_variance_score(ytest,ts_pred)\n",
    "bias=mean_absolute_error(ytrain,tr_pred)\n",
    "var=mean_absolute_error(ytest,ts_pred)\n",
    "\n",
    "adj,bias, var"
   ]
  },
  {
   "cell_type": "markdown",
   "id": "49c7dfab",
   "metadata": {},
   "source": [
    "# Model26"
   ]
  },
  {
   "cell_type": "code",
   "execution_count": 110,
   "id": "bbfd3c54",
   "metadata": {},
   "outputs": [
    {
     "data": {
      "text/plain": [
       "(0.9420943810236208, 126.69561170795461, 141.91567949515812)"
      ]
     },
     "execution_count": 110,
     "metadata": {},
     "output_type": "execute_result"
    }
   ],
   "source": [
    "Y=A[[\"Weight\"]]\n",
    "X=A[[\"Fuel.tank.capacity\",\"Width\", \"Wheelbase\", \"Length\" , \"Rev.per.mile\" , \"Luggage.room\",  \"AirBags\" , \"Cylinders\"]]\n",
    "\n",
    "cat=[]\n",
    "con=[]\n",
    "for i in X.columns:\n",
    "    if X[i].dtypes==\"object\":\n",
    "        cat.append(i)\n",
    "    else:\n",
    "        con.append(i)\n",
    "xcat=pd.get_dummies(X[cat])\n",
    "xcon=pd.DataFrame(ss.fit_transform(X[con]) , columns=con)\n",
    "\n",
    "Xnew=xcat.join(xcon)\n",
    "Xnew.head()\n",
    "\n",
    "xtrain,xtest,ytrain,ytest=train_test_split(Xnew,Y,test_size=0.2,random_state=21)\n",
    "model=lm.fit(xtrain,ytrain)\n",
    "\n",
    "tr_pred=model.predict(xtrain)\n",
    "ts_pred=model.predict(xtest)\n",
    "\n",
    "adj=explained_variance_score(ytest,ts_pred)\n",
    "bias=mean_absolute_error(ytrain,tr_pred)\n",
    "var=mean_absolute_error(ytest,ts_pred)\n",
    "\n",
    "adj,bias, var"
   ]
  },
  {
   "cell_type": "markdown",
   "id": "f98ecc23",
   "metadata": {},
   "source": [
    "# Model27"
   ]
  },
  {
   "cell_type": "code",
   "execution_count": 111,
   "id": "ab7be418",
   "metadata": {},
   "outputs": [
    {
     "data": {
      "text/plain": [
       "(0.9788918518375687, 136.74445766920638, 87.82369565378288)"
      ]
     },
     "execution_count": 111,
     "metadata": {},
     "output_type": "execute_result"
    }
   ],
   "source": [
    "Y=A[[\"Weight\"]]\n",
    "X=A[[\"Fuel.tank.capacity\",\"Width\", \"Wheelbase\", \"Length\" , \"Rev.per.mile\" , \"Luggage.room\",  \"AirBags\" , \"Man.trans.avail\"]]\n",
    "\n",
    "cat=[]\n",
    "con=[]\n",
    "for i in X.columns:\n",
    "    if X[i].dtypes==\"object\":\n",
    "        cat.append(i)\n",
    "    else:\n",
    "        con.append(i)\n",
    "xcat=pd.get_dummies(X[cat])\n",
    "xcon=pd.DataFrame(ss.fit_transform(X[con]) , columns=con)\n",
    "\n",
    "Xnew=xcat.join(xcon)\n",
    "Xnew.head()\n",
    "\n",
    "xtrain,xtest,ytrain,ytest=train_test_split(Xnew,Y,test_size=0.2,random_state=21)\n",
    "model=lm.fit(xtrain,ytrain)\n",
    "\n",
    "tr_pred=model.predict(xtrain)\n",
    "ts_pred=model.predict(xtest)\n",
    "\n",
    "adj=explained_variance_score(ytest,ts_pred)\n",
    "bias=mean_absolute_error(ytrain,tr_pred)\n",
    "var=mean_absolute_error(ytest,ts_pred)\n",
    "\n",
    "adj,bias, var"
   ]
  },
  {
   "cell_type": "code",
   "execution_count": null,
   "id": "fdc18c7c",
   "metadata": {},
   "outputs": [],
   "source": []
  }
 ],
 "metadata": {
  "kernelspec": {
   "display_name": "Python 3",
   "language": "python",
   "name": "python3"
  },
  "language_info": {
   "codemirror_mode": {
    "name": "ipython",
    "version": 3
   },
   "file_extension": ".py",
   "mimetype": "text/x-python",
   "name": "python",
   "nbconvert_exporter": "python",
   "pygments_lexer": "ipython3",
   "version": "3.8.8"
  }
 },
 "nbformat": 4,
 "nbformat_minor": 5
}
